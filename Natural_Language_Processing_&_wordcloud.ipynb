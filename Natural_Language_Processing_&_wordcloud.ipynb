{
 "cells": [
  {
   "cell_type": "code",
   "execution_count": 1,
   "metadata": {},
   "outputs": [],
   "source": [
    "#import packages\n",
    "import numpy as np #for array and matrices\n",
    "import pandas as pd #for data manipulation and analysis\n",
    "import matplotlib.pyplot as plt #for clearing plots\n",
    "from sklearn.model_selection  import train_test_split #for split the data into training and test\n",
    "from sklearn.metrics import confusion_matrix, accuracy_score, f1_score, recall_score, precision_score #for confusion matrix\n",
    "import warnings\n",
    "warnings.filterwarnings(\"ignore\") #to ignore all the warnings"
   ]
  },
  {
   "cell_type": "code",
   "execution_count": 2,
   "metadata": {},
   "outputs": [],
   "source": [
    "#load the dataset\n",
    "#read_csv is from pandas and it is use for loading the data\n",
    "m_health_all = pd.read_csv('D:\\\\Semester 3\\\\healthcare Analytics\\\\project\\\\survey.csv')"
   ]
  },
  {
   "cell_type": "code",
   "execution_count": 3,
   "metadata": {},
   "outputs": [
    {
     "name": "stdout",
     "output_type": "stream",
     "text": [
      "<class 'pandas.core.frame.DataFrame'>\n",
      "RangeIndex: 1259 entries, 0 to 1258\n",
      "Data columns (total 27 columns):\n",
      "Timestamp                    1259 non-null object\n",
      "Age                          1259 non-null int64\n",
      "Gender                       1259 non-null object\n",
      "Country                      1259 non-null object\n",
      "state                        744 non-null object\n",
      "self_employed                1241 non-null object\n",
      "family_history               1259 non-null object\n",
      "treatment                    1259 non-null object\n",
      "work_interfere               995 non-null object\n",
      "no_employees                 1259 non-null object\n",
      "remote_work                  1259 non-null object\n",
      "tech_company                 1259 non-null object\n",
      "benefits                     1259 non-null object\n",
      "care_options                 1259 non-null object\n",
      "wellness_program             1259 non-null object\n",
      "seek_help                    1259 non-null object\n",
      "anonymity                    1259 non-null object\n",
      "leave                        1259 non-null object\n",
      "mental_health_consequence    1259 non-null object\n",
      "phys_health_consequence      1259 non-null object\n",
      "coworkers                    1259 non-null object\n",
      "supervisor                   1259 non-null object\n",
      "mental_health_interview      1259 non-null object\n",
      "phys_health_interview        1259 non-null object\n",
      "mental_vs_physical           1259 non-null object\n",
      "obs_consequence              1259 non-null object\n",
      "comments                     164 non-null object\n",
      "dtypes: int64(1), object(26)\n",
      "memory usage: 265.7+ KB\n"
     ]
    }
   ],
   "source": [
    "# see the information of data\n",
    "m_health_all.info()"
   ]
  },
  {
   "cell_type": "code",
   "execution_count": 4,
   "metadata": {},
   "outputs": [],
   "source": [
    "# create comments dataframe where remove all the null values from comments column\n",
    "comments = m_health_all[pd.notnull(m_health_all['comments'])]"
   ]
  },
  {
   "cell_type": "code",
   "execution_count": 5,
   "metadata": {},
   "outputs": [],
   "source": [
    "# select treatment and comments column in comments dataframe\n",
    "comments = comments[['treatment', 'comments']]"
   ]
  },
  {
   "cell_type": "code",
   "execution_count": 6,
   "metadata": {},
   "outputs": [],
   "source": [
    "# create series called comment_Yes where all the comments save where it is 'Yes' in column\n",
    "comments_Yes = pd.Series(comments[comments['treatment'] == 'Yes']['comments'].tolist()).astype(str)"
   ]
  },
  {
   "cell_type": "code",
   "execution_count": 7,
   "metadata": {},
   "outputs": [
    {
     "data": {
      "text/plain": [
       "0      I have chronic low-level neurological issues t...\n",
       "1      My company does provide healthcare but not to ...\n",
       "2                    Relatively new job. Ask again later\n",
       "3      Sometimes I think  about using drugs for my me...\n",
       "4      I selected my current employer based on its po...\n",
       "                             ...                        \n",
       "101    The data will be skewed for self-employed peop...\n",
       "102    I work at a large university with a track reco...\n",
       "103    i'm in a country with social health care so my...\n",
       "104    In australia all organisations of a certain si...\n",
       "105                                    Bipolar disorder \n",
       "Length: 106, dtype: object"
      ]
     },
     "execution_count": 7,
     "metadata": {},
     "output_type": "execute_result"
    }
   ],
   "source": [
    "# see the series\n",
    "comments_Yes"
   ]
  },
  {
   "cell_type": "code",
   "execution_count": 8,
   "metadata": {},
   "outputs": [],
   "source": [
    "# join all the words\n",
    "comments_Yes = \" \".join(comments_Yes.astype(str))"
   ]
  },
  {
   "cell_type": "markdown",
   "metadata": {},
   "source": [
    "- please install `wordcloud` library if you already have move on\n",
    "- to install `wordcloud` you use directly this command in jupyter `!pip install wordcloud`\n",
    "- otherwise you can install in Anaconda Prompt or Anaconda Navigator"
   ]
  },
  {
   "cell_type": "code",
   "execution_count": 9,
   "metadata": {},
   "outputs": [],
   "source": [
    "#for creating word cloud\n",
    "from wordcloud import WordCloud"
   ]
  },
  {
   "cell_type": "code",
   "execution_count": 10,
   "metadata": {},
   "outputs": [
    {
     "data": {
      "text/plain": [
       "<matplotlib.image.AxesImage at 0x216f540b408>"
      ]
     },
     "execution_count": 10,
     "metadata": {},
     "output_type": "execute_result"
    },
    {
     "data": {
      "image/png": "[encoded data removed]",
      "text/plain": [
       "<Figure size 1080x720 with 1 Axes>"
      ]
     },
     "metadata": {
      "needs_background": "light"
     },
     "output_type": "display_data"
    }
   ],
   "source": [
    "#patients who has mental illness\n",
    "comment_cloud = WordCloud().generate(comments_Yes)\n",
    "plt.figure(figsize=(15,10))\n",
    "plt.imshow(comment_cloud)"
   ]
  },
  {
   "cell_type": "code",
   "execution_count": 11,
   "metadata": {},
   "outputs": [],
   "source": [
    "# remove the values if necessary and replace the values\n",
    "comments['treatment'] = comments['treatment'].replace('Yes', \"1\")\n",
    "comments['treatment'] = comments['treatment'].replace('No', \"0\")\n",
    "comments = comments[comments.treatment != 'Maybe']"
   ]
  },
  {
   "cell_type": "code",
   "execution_count": 12,
   "metadata": {},
   "outputs": [],
   "source": [
    "# store information in Dataframe\n",
    "comments = pd.DataFrame(comments)"
   ]
  },
  {
   "cell_type": "code",
   "execution_count": 13,
   "metadata": {},
   "outputs": [],
   "source": [
    "# set treatment as index column\n",
    "comments.set_index(['treatment'], inplace=True)"
   ]
  },
  {
   "cell_type": "code",
   "execution_count": 14,
   "metadata": {},
   "outputs": [
    {
     "data": {
      "text/html": [
       "<div>\n",
       "<style scoped>\n",
       "    .dataframe tbody tr th:only-of-type {\n",
       "        vertical-align: middle;\n",
       "    }\n",
       "\n",
       "    .dataframe tbody tr th {\n",
       "        vertical-align: top;\n",
       "    }\n",
       "\n",
       "    .dataframe thead th {\n",
       "        text-align: right;\n",
       "    }\n",
       "</style>\n",
       "<table border=\"1\" class=\"dataframe\">\n",
       "  <thead>\n",
       "    <tr style=\"text-align: right;\">\n",
       "      <th></th>\n",
       "      <th>comments</th>\n",
       "    </tr>\n",
       "    <tr>\n",
       "      <th>treatment</th>\n",
       "      <th></th>\n",
       "    </tr>\n",
       "  </thead>\n",
       "  <tbody>\n",
       "    <tr>\n",
       "      <td>0</td>\n",
       "      <td>I'm not on my company's health insurance which...</td>\n",
       "    </tr>\n",
       "    <tr>\n",
       "      <td>1</td>\n",
       "      <td>I have chronic low-level neurological issues t...</td>\n",
       "    </tr>\n",
       "    <tr>\n",
       "      <td>1</td>\n",
       "      <td>My company does provide healthcare but not to ...</td>\n",
       "    </tr>\n",
       "    <tr>\n",
       "      <td>1</td>\n",
       "      <td>Relatively new job. Ask again later</td>\n",
       "    </tr>\n",
       "    <tr>\n",
       "      <td>1</td>\n",
       "      <td>Sometimes I think  about using drugs for my me...</td>\n",
       "    </tr>\n",
       "    <tr>\n",
       "      <td>...</td>\n",
       "      <td>...</td>\n",
       "    </tr>\n",
       "    <tr>\n",
       "      <td>0</td>\n",
       "      <td>Although my employer does everything they can ...</td>\n",
       "    </tr>\n",
       "    <tr>\n",
       "      <td>1</td>\n",
       "      <td>I work at a large university with a track reco...</td>\n",
       "    </tr>\n",
       "    <tr>\n",
       "      <td>1</td>\n",
       "      <td>i'm in a country with social health care so my...</td>\n",
       "    </tr>\n",
       "    <tr>\n",
       "      <td>1</td>\n",
       "      <td>In australia all organisations of a certain si...</td>\n",
       "    </tr>\n",
       "    <tr>\n",
       "      <td>1</td>\n",
       "      <td>Bipolar disorder</td>\n",
       "    </tr>\n",
       "  </tbody>\n",
       "</table>\n",
       "<p>164 rows × 1 columns</p>\n",
       "</div>"
      ],
      "text/plain": [
       "                                                    comments\n",
       "treatment                                                   \n",
       "0          I'm not on my company's health insurance which...\n",
       "1          I have chronic low-level neurological issues t...\n",
       "1          My company does provide healthcare but not to ...\n",
       "1                        Relatively new job. Ask again later\n",
       "1          Sometimes I think  about using drugs for my me...\n",
       "...                                                      ...\n",
       "0          Although my employer does everything they can ...\n",
       "1          I work at a large university with a track reco...\n",
       "1          i'm in a country with social health care so my...\n",
       "1          In australia all organisations of a certain si...\n",
       "1                                          Bipolar disorder \n",
       "\n",
       "[164 rows x 1 columns]"
      ]
     },
     "execution_count": 14,
     "metadata": {},
     "output_type": "execute_result"
    }
   ],
   "source": [
    "comments"
   ]
  },
  {
   "cell_type": "markdown",
   "metadata": {},
   "source": [
    "# Natural Language Processing"
   ]
  },
  {
   "cell_type": "code",
   "execution_count": 15,
   "metadata": {},
   "outputs": [
    {
     "name": "stderr",
     "output_type": "stream",
     "text": [
      "[nltk_data] Downloading package stopwords to\n",
      "[nltk_data]     C:\\Users\\Keval\\AppData\\Roaming\\nltk_data...\n",
      "[nltk_data]   Package stopwords is already up-to-date!\n"
     ]
    }
   ],
   "source": [
    "# Clean the text by removing any extra characters \n",
    "import re # tools for cleaning text\n",
    "import nltk # library to perform NLP\n",
    "nltk.download('stopwords') #download stopwords if you don't have\n",
    "from nltk.corpus import stopwords #stopwords use for remove extra characters\n",
    "# Stemming means taking the root of the word such as love from loved or loving\n",
    "from nltk.stem.porter import PorterStemmer"
   ]
  },
  {
   "cell_type": "code",
   "execution_count": 16,
   "metadata": {},
   "outputs": [],
   "source": [
    "# Steps for cleaning the first review and apply for loop on all the reviews\n",
    "comments['comments'][2]\n",
    "Comments = re.sub('[^a-zA-Z]', ' ', comments['comments'][2]) # only keep the letters so what we dont want to remove\n",
    "Comments = Comments.lower() # make all letters as lowercase \n",
    "Comments = Comments.split()  # split the review into separate words to create a list of words\n",
    "ps =PorterStemmer()\n",
    "Comments = [ps.stem(word) for word in Comments if not  word in set(stopwords.words('english'))] # use set for larger text\n",
    "Comments = ' '.join(Comments) # take the list of words back into the string"
   ]
  },
  {
   "cell_type": "code",
   "execution_count": 17,
   "metadata": {},
   "outputs": [],
   "source": [
    "corpus = [] # Build a new list for all the words from all the comments\n",
    "# corpus is a collection of text and a common term used in NLP\n",
    "for i in range (0, 164):\n",
    "    Comments = re.sub('[^a-zA-Z]', ' ', comments['comments'][i] )\n",
    "    Comments = Comments.lower()\n",
    "    Comments = Comments.split()\n",
    "    ps =PorterStemmer()\n",
    "    Comments = [ps.stem(word) for word in Comments if not  word in set(stopwords.words('english'))]\n",
    "    Comments = ' '.join(Comments)\n",
    "    corpus.append(Comments)"
   ]
  },
  {
   "cell_type": "code",
   "execution_count": 18,
   "metadata": {},
   "outputs": [],
   "source": [
    "# Create the bag of words model\n",
    "from sklearn.feature_extraction.text import CountVectorizer\n",
    "cv = CountVectorizer(max_features= 1500)# We restrict the words to 1500 which keeps the most frequent words\n",
    "X = cv.fit_transform(corpus).toarray() # independent variables\n",
    "y = comments.index #target variable"
   ]
  },
  {
   "cell_type": "code",
   "execution_count": 19,
   "metadata": {},
   "outputs": [
    {
     "name": "stdout",
     "output_type": "stream",
     "text": [
      "shape of features:  (164, 1069)\n",
      "shape of target:  (164,)\n"
     ]
    }
   ],
   "source": [
    "print('shape of features: ',X.shape)\n",
    "print('shape of target: ',y.shape)"
   ]
  },
  {
   "cell_type": "markdown",
   "metadata": {},
   "source": [
    "# Machine Learning approches"
   ]
  },
  {
   "cell_type": "code",
   "execution_count": 20,
   "metadata": {},
   "outputs": [],
   "source": [
    "# Split the data with train_test_split which by default split 75% as training and 25% as test\n",
    "X_train, X_test, y_train, y_test = train_test_split(X, y, random_state = 14)"
   ]
  },
  {
   "cell_type": "markdown",
   "metadata": {},
   "source": [
    "## K-nearest Neighbors"
   ]
  },
  {
   "cell_type": "code",
   "execution_count": 21,
   "metadata": {},
   "outputs": [
    {
     "name": "stdout",
     "output_type": "stream",
     "text": [
      "training accuracy is  0.7642276422764228\n",
      "test accuracy is  0.6341463414634146\n"
     ]
    }
   ],
   "source": [
    "#KNeighborsClassifier from sklearn\n",
    "from sklearn.neighbors import KNeighborsClassifier\n",
    "knn = KNeighborsClassifier(n_neighbors=5)\n",
    "knn.fit(X_train, y_train)\n",
    "\n",
    "#print the accuracy score\n",
    "print('training accuracy is ',knn.score(X_train, y_train))\n",
    "print('test accuracy is ',knn.score(X_test, y_test))"
   ]
  },
  {
   "cell_type": "code",
   "execution_count": 22,
   "metadata": {},
   "outputs": [
    {
     "name": "stdout",
     "output_type": "stream",
     "text": [
      "accuracy_score: 0.6341463414634146\n",
      "recall_score: 0.6341463414634146\n",
      "precision_score: 0.6445192038127278\n",
      "f1_score: 0.638999227133023\n",
      "Test Data Accuracy: 0.6341\n"
     ]
    },
    {
     "data": {
      "text/html": [
       "<div>\n",
       "<style scoped>\n",
       "    .dataframe tbody tr th:only-of-type {\n",
       "        vertical-align: middle;\n",
       "    }\n",
       "\n",
       "    .dataframe tbody tr th {\n",
       "        vertical-align: top;\n",
       "    }\n",
       "\n",
       "    .dataframe thead th {\n",
       "        text-align: right;\n",
       "    }\n",
       "</style>\n",
       "<table border=\"1\" class=\"dataframe\">\n",
       "  <thead>\n",
       "    <tr style=\"text-align: right;\">\n",
       "      <th></th>\n",
       "      <th>Predicted: No</th>\n",
       "      <th>Predicted: Yes</th>\n",
       "    </tr>\n",
       "  </thead>\n",
       "  <tbody>\n",
       "    <tr>\n",
       "      <td>Actual: No</td>\n",
       "      <td>4</td>\n",
       "      <td>7</td>\n",
       "    </tr>\n",
       "    <tr>\n",
       "      <td>Actual: Yes</td>\n",
       "      <td>8</td>\n",
       "      <td>22</td>\n",
       "    </tr>\n",
       "  </tbody>\n",
       "</table>\n",
       "</div>"
      ],
      "text/plain": [
       "             Predicted: No  Predicted: Yes\n",
       "Actual: No               4               7\n",
       "Actual: Yes              8              22"
      ]
     },
     "execution_count": 22,
     "metadata": {},
     "output_type": "execute_result"
    }
   ],
   "source": [
    "# Predicting the Test set results\n",
    "y_pred = knn.predict(X_test)\n",
    "\n",
    "# Making the Confusion Matrix\n",
    "cm = confusion_matrix(y_test, y_pred)\n",
    "\n",
    "# Making the Confusion Matrix\n",
    "print('accuracy_score:',accuracy_score(y_test, y_pred))\n",
    "print('recall_score:',recall_score(y_test, y_pred, average=\"weighted\", pos_label=\"pos\")) # tp / (tp + fn)\n",
    "print('precision_score:',precision_score(y_test, y_pred, average=\"weighted\", pos_label=\"pos\")) # tp / (tp + fp)\n",
    "print('f1_score:',f1_score(y_test, y_pred, average=\"weighted\", pos_label=\"pos\"))\n",
    "\n",
    "df_cm = pd.DataFrame(cm, index = ('Actual: No','Actual: Yes'), columns = ('Predicted: No', 'Predicted: Yes'))\n",
    "print(\"Test Data Accuracy: %.4f\" %accuracy_score(y_test, y_pred))\n",
    "df_cm"
   ]
  },
  {
   "cell_type": "markdown",
   "metadata": {},
   "source": [
    "## Decision Tree Classifier"
   ]
  },
  {
   "cell_type": "code",
   "execution_count": 23,
   "metadata": {},
   "outputs": [
    {
     "name": "stdout",
     "output_type": "stream",
     "text": [
      "max_depth= 2\n",
      "0.6829268292682927\n",
      "0.6829268292682927 \n",
      "\n",
      "max_depth= 3\n",
      "0.6991869918699187\n",
      "0.7317073170731707 \n",
      "\n",
      "max_depth= 4\n",
      "0.7154471544715447\n",
      "0.6829268292682927 \n",
      "\n",
      "max_depth= 5\n",
      "0.7317073170731707\n",
      "0.6829268292682927 \n",
      "\n",
      "max_depth= 6\n",
      "0.7479674796747967\n",
      "0.5853658536585366 \n",
      "\n",
      "max_depth= 7\n",
      "0.7642276422764228\n",
      "0.6341463414634146 \n",
      "\n",
      "max_depth= 8\n",
      "0.7804878048780488\n",
      "0.6829268292682927 \n",
      "\n",
      "max_depth= 9\n",
      "0.7967479674796748\n",
      "0.6829268292682927 \n",
      "\n",
      "max_depth= 10\n",
      "0.8130081300813008\n",
      "0.6585365853658537 \n",
      "\n"
     ]
    }
   ],
   "source": [
    "# Find Best Max Depth\n",
    "\n",
    "# Loop through a few different max depths and check the performance\n",
    "# Try different max depths. We want to optimize our ML models to make the best predictions possible.\n",
    "# For regular decision trees, max_depth, which is a hyperparameter, limits the number of splits in a tree.\n",
    "# You can find the best value of max_depth based on the R-squared score of the model on the test set.\n",
    "\n",
    "from sklearn.tree import DecisionTreeClassifier \n",
    "for d in [2,3,4,5,6,7,8,9,10]:\n",
    "    # Create the tree and fit it\n",
    "    decision_tree = DecisionTreeClassifier(max_depth=d, min_samples_split=6)\n",
    "    decision_tree.fit(X_train, y_train)\n",
    "\n",
    "    # Print out the scores on train and test\n",
    "    print('max_depth=', str(d))\n",
    "    print(decision_tree.score(X_train, y_train))\n",
    "    print(decision_tree.score(X_test, y_test), '\\n')  # You want the test score to be positive\n",
    "    \n",
    "# R-square for train and test scores are below. \n",
    "# Always remember that best accuracy that doesn't mean our model is perfect always check for confusion matrix."
   ]
  },
  {
   "cell_type": "code",
   "execution_count": 24,
   "metadata": {},
   "outputs": [
    {
     "name": "stdout",
     "output_type": "stream",
     "text": [
      "training accuracy is  0.7804878048780488\n",
      "test accuracy is  0.7073170731707317\n"
     ]
    }
   ],
   "source": [
    "# DecisionTreeClassifier from sklearn.tree\n",
    "tree = DecisionTreeClassifier(random_state=0, max_depth = 8, min_samples_split = 6)\n",
    "tree.fit(X_train, y_train) \n",
    "\n",
    "#print the accuracy score\n",
    "print('training accuracy is ',tree.score(X_train, y_train))\n",
    "print('test accuracy is ',tree.score(X_test, y_test))"
   ]
  },
  {
   "cell_type": "code",
   "execution_count": 25,
   "metadata": {},
   "outputs": [
    {
     "name": "stdout",
     "output_type": "stream",
     "text": [
      "accuracy_score: 0.7073170731707317\n",
      "recall_score: 0.7073170731707317\n",
      "precision_score: 0.6745234679237548\n",
      "f1_score: 0.6839430894308942\n",
      "Test Data Accuracy: 0.7073\n"
     ]
    },
    {
     "data": {
      "text/html": [
       "<div>\n",
       "<style scoped>\n",
       "    .dataframe tbody tr th:only-of-type {\n",
       "        vertical-align: middle;\n",
       "    }\n",
       "\n",
       "    .dataframe tbody tr th {\n",
       "        vertical-align: top;\n",
       "    }\n",
       "\n",
       "    .dataframe thead th {\n",
       "        text-align: right;\n",
       "    }\n",
       "</style>\n",
       "<table border=\"1\" class=\"dataframe\">\n",
       "  <thead>\n",
       "    <tr style=\"text-align: right;\">\n",
       "      <th></th>\n",
       "      <th>Predicted: No</th>\n",
       "      <th>Predicted: Yes</th>\n",
       "    </tr>\n",
       "  </thead>\n",
       "  <tbody>\n",
       "    <tr>\n",
       "      <td>Actual: No</td>\n",
       "      <td>3</td>\n",
       "      <td>8</td>\n",
       "    </tr>\n",
       "    <tr>\n",
       "      <td>Actual: Yes</td>\n",
       "      <td>4</td>\n",
       "      <td>26</td>\n",
       "    </tr>\n",
       "  </tbody>\n",
       "</table>\n",
       "</div>"
      ],
      "text/plain": [
       "             Predicted: No  Predicted: Yes\n",
       "Actual: No               3               8\n",
       "Actual: Yes              4              26"
      ]
     },
     "execution_count": 25,
     "metadata": {},
     "output_type": "execute_result"
    }
   ],
   "source": [
    "# Predicting the Test set results\n",
    "y_pred = tree.predict(X_test)\n",
    "\n",
    "# Making the Confusion Matrix\n",
    "cm = confusion_matrix(y_test, y_pred)\n",
    "\n",
    "# Making the Confusion Matrix\n",
    "print('accuracy_score:',accuracy_score(y_test, y_pred))\n",
    "print('recall_score:',recall_score(y_test, y_pred, average=\"weighted\", pos_label=\"pos\")) # tp / (tp + fn)\n",
    "print('precision_score:',precision_score(y_test, y_pred, average=\"weighted\", pos_label=\"pos\")) # tp / (tp + fp)\n",
    "print('f1_score:',f1_score(y_test, y_pred, average=\"weighted\", pos_label=\"pos\"))\n",
    "\n",
    "df_cm = pd.DataFrame(cm, index = ('Actual: No','Actual: Yes'), columns = ('Predicted: No', 'Predicted: Yes'))\n",
    "print(\"Test Data Accuracy: %.4f\" %accuracy_score(y_test, y_pred))\n",
    "df_cm"
   ]
  },
  {
   "cell_type": "markdown",
   "metadata": {},
   "source": [
    "## Random Forest Classifier"
   ]
  },
  {
   "cell_type": "code",
   "execution_count": 26,
   "metadata": {},
   "outputs": [
    {
     "name": "stdout",
     "output_type": "stream",
     "text": [
      "The best test score is: 0.7317073170731707 {'random_state': 0, 'n_estimators': 100, 'min_samples_split': 2, 'max_depth': 2}\n"
     ]
    }
   ],
   "source": [
    "# Random Forest Model\n",
    "from sklearn.ensemble import RandomForestClassifier\n",
    "\n",
    "# Create the random forest model and fit to the training data\n",
    "cfr = RandomForestClassifier()\n",
    "cfr.fit(X_train, y_train)\n",
    "\n",
    "# Use ParameterGrid Search\n",
    "from sklearn.model_selection import ParameterGrid\n",
    "\n",
    "# Create a dictionary of hyperparameters to search\n",
    "# n_estimators is the number of trees in the forest. The larger the better, but also takes longer it will take to compute. \n",
    "# Run grid search\n",
    "grid = {'n_estimators': [50, 100, 150, 200], 'max_depth': [2, 3, 4, 5, 6, 7, 8, 9, 10], 'min_samples_split': [2, 3, 4, 5, 6, 7, 8, 9, 10, 11, 12], 'random_state': [0]}\n",
    "test_scores = []\n",
    "\n",
    "# Loop through the parameter grid, set the hyperparameters, and save the scores\n",
    "for g in ParameterGrid(grid):\n",
    "    cfr.set_params(**g)  # ** is \"unpacking\" the dictionary\n",
    "    cfr.fit(X_train, y_train)\n",
    "    test_scores.append(cfr.score(X_test, y_test))\n",
    "\n",
    "# Find best hyperparameters from the test score and print\n",
    "best_idx = np.argmax(test_scores)\n",
    "print('The best test score is:',test_scores[best_idx], ParameterGrid(grid)[best_idx])  "
   ]
  },
  {
   "cell_type": "code",
   "execution_count": 27,
   "metadata": {},
   "outputs": [
    {
     "name": "stdout",
     "output_type": "stream",
     "text": [
      "training accuracy is  0.6178861788617886\n",
      "test accuracy is  0.7317073170731707\n"
     ]
    }
   ],
   "source": [
    "#RandomForestClassifier from sklearn.ensemble\n",
    "from sklearn.ensemble import RandomForestClassifier\n",
    "clf = RandomForestClassifier(n_estimators=100, max_depth=2, min_samples_split = 2, random_state=0)\n",
    "clf.fit(X_train, y_train)\n",
    "\n",
    "#print the accuracy score\n",
    "print('training accuracy is ',clf.score(X_train, y_train))\n",
    "print('test accuracy is ',clf.score(X_test, y_test))"
   ]
  },
  {
   "cell_type": "code",
   "execution_count": 190,
   "metadata": {},
   "outputs": [
    {
     "name": "stdout",
     "output_type": "stream",
     "text": [
      "accuracy_score: 0.7317073170731707\n",
      "recall_score: 0.7317073170731707\n",
      "precision_score: 0.5353955978584176\n",
      "f1_score: 0.6183442116111302\n",
      "Test Data Accuracy: 0.7317\n"
     ]
    },
    {
     "data": {
      "text/html": [
       "<div>\n",
       "<style scoped>\n",
       "    .dataframe tbody tr th:only-of-type {\n",
       "        vertical-align: middle;\n",
       "    }\n",
       "\n",
       "    .dataframe tbody tr th {\n",
       "        vertical-align: top;\n",
       "    }\n",
       "\n",
       "    .dataframe thead th {\n",
       "        text-align: right;\n",
       "    }\n",
       "</style>\n",
       "<table border=\"1\" class=\"dataframe\">\n",
       "  <thead>\n",
       "    <tr style=\"text-align: right;\">\n",
       "      <th></th>\n",
       "      <th>Predicted: No</th>\n",
       "      <th>Predicted: Yes</th>\n",
       "    </tr>\n",
       "  </thead>\n",
       "  <tbody>\n",
       "    <tr>\n",
       "      <td>Actual: No</td>\n",
       "      <td>0</td>\n",
       "      <td>11</td>\n",
       "    </tr>\n",
       "    <tr>\n",
       "      <td>Actual: Yes</td>\n",
       "      <td>0</td>\n",
       "      <td>30</td>\n",
       "    </tr>\n",
       "  </tbody>\n",
       "</table>\n",
       "</div>"
      ],
      "text/plain": [
       "             Predicted: No  Predicted: Yes\n",
       "Actual: No               0              11\n",
       "Actual: Yes              0              30"
      ]
     },
     "execution_count": 190,
     "metadata": {},
     "output_type": "execute_result"
    }
   ],
   "source": [
    "# Predicting the Test set results\n",
    "y_pred = clf.predict(X_test)\n",
    "\n",
    "# Making the Confusion Matrix\n",
    "cm = confusion_matrix(y_test, y_pred)\n",
    "\n",
    "# Making the Confusion Matrix\n",
    "print('accuracy_score:',accuracy_score(y_test, y_pred))\n",
    "print('recall_score:',recall_score(y_test, y_pred, average=\"weighted\", pos_label=\"pos\")) # tp / (tp + fn)\n",
    "print('precision_score:',precision_score(y_test, y_pred, average=\"weighted\", pos_label=\"pos\")) # tp / (tp + fp)\n",
    "print('f1_score:',f1_score(y_test, y_pred, average=\"weighted\", pos_label=\"pos\"))\n",
    "\n",
    "df_cm = pd.DataFrame(cm, index = ('Actual: No','Actual: Yes'), columns = ('Predicted: No', 'Predicted: Yes'))\n",
    "print(\"Test Data Accuracy: %.4f\" %accuracy_score(y_test, y_pred))\n",
    "df_cm"
   ]
  },
  {
   "cell_type": "markdown",
   "metadata": {},
   "source": [
    "## Support Vector Machine"
   ]
  },
  {
   "cell_type": "code",
   "execution_count": 191,
   "metadata": {},
   "outputs": [
    {
     "name": "stdout",
     "output_type": "stream",
     "text": [
      "training accuracy is  0.983739837398374\n",
      "test accuracy is  0.6829268292682927\n"
     ]
    }
   ],
   "source": [
    "# Support vector classification form sklearn.svm\n",
    "from sklearn.svm import SVC\n",
    "svm = SVC(kernel = 'linear', random_state = 0)\n",
    "svm.fit(X_train, y_train)\n",
    "\n",
    "#print the accuracy score\n",
    "print('training accuracy is ',svm.score(X_train, y_train))\n",
    "print('test accuracy is ',svm.score(X_test, y_test))"
   ]
  },
  {
   "cell_type": "code",
   "execution_count": 192,
   "metadata": {},
   "outputs": [
    {
     "name": "stdout",
     "output_type": "stream",
     "text": [
      "accuracy_score: 0.6829268292682927\n",
      "recall_score: 0.6829268292682927\n",
      "precision_score: 0.6738001573564123\n",
      "f1_score: 0.6779764284762285\n",
      "Test Data Accuracy: 0.6829\n"
     ]
    },
    {
     "data": {
      "text/html": [
       "<div>\n",
       "<style scoped>\n",
       "    .dataframe tbody tr th:only-of-type {\n",
       "        vertical-align: middle;\n",
       "    }\n",
       "\n",
       "    .dataframe tbody tr th {\n",
       "        vertical-align: top;\n",
       "    }\n",
       "\n",
       "    .dataframe thead th {\n",
       "        text-align: right;\n",
       "    }\n",
       "</style>\n",
       "<table border=\"1\" class=\"dataframe\">\n",
       "  <thead>\n",
       "    <tr style=\"text-align: right;\">\n",
       "      <th></th>\n",
       "      <th>Predicted: No</th>\n",
       "      <th>Predicted: Yes</th>\n",
       "    </tr>\n",
       "  </thead>\n",
       "  <tbody>\n",
       "    <tr>\n",
       "      <td>Actual: No</td>\n",
       "      <td>4</td>\n",
       "      <td>7</td>\n",
       "    </tr>\n",
       "    <tr>\n",
       "      <td>Actual: Yes</td>\n",
       "      <td>6</td>\n",
       "      <td>24</td>\n",
       "    </tr>\n",
       "  </tbody>\n",
       "</table>\n",
       "</div>"
      ],
      "text/plain": [
       "             Predicted: No  Predicted: Yes\n",
       "Actual: No               4               7\n",
       "Actual: Yes              6              24"
      ]
     },
     "execution_count": 192,
     "metadata": {},
     "output_type": "execute_result"
    }
   ],
   "source": [
    "# Predicting the Test set results\n",
    "y_pred = svm.predict(X_test)\n",
    "\n",
    "# Making the Confusion Matrix\n",
    "cm = confusion_matrix(y_test, y_pred)\n",
    "\n",
    "# Making the Confusion Matrix\n",
    "print('accuracy_score:',accuracy_score(y_test, y_pred))\n",
    "print('recall_score:',recall_score(y_test, y_pred, average=\"weighted\", pos_label=\"pos\")) # tp / (tp + fn)\n",
    "print('precision_score:',precision_score(y_test, y_pred, average=\"weighted\", pos_label=\"pos\")) # tp / (tp + fp)\n",
    "print('f1_score:',f1_score(y_test, y_pred, average=\"weighted\", pos_label=\"pos\"))\n",
    "\n",
    "df_cm = pd.DataFrame(cm, index = ('Actual: No','Actual: Yes'), columns = ('Predicted: No', 'Predicted: Yes'))\n",
    "print(\"Test Data Accuracy: %.4f\" %accuracy_score(y_test, y_pred))\n",
    "df_cm"
   ]
  },
  {
   "cell_type": "markdown",
   "metadata": {},
   "source": [
    "## Naive Bayes Algorithm"
   ]
  },
  {
   "cell_type": "code",
   "execution_count": 193,
   "metadata": {},
   "outputs": [
    {
     "name": "stdout",
     "output_type": "stream",
     "text": [
      "training accuracy is  0.975609756097561\n",
      "test accuracy is  0.5121951219512195\n"
     ]
    }
   ],
   "source": [
    "# Fitting classifier to the Training set\n",
    "from sklearn.naive_bayes import GaussianNB\n",
    "gnb = GaussianNB()\n",
    "gnb.fit(X_train, y_train)\n",
    "\n",
    "#print the accuracy score\n",
    "print('training accuracy is ',gnb.score(X_train, y_train))\n",
    "print('test accuracy is ',gnb.score(X_test, y_test))"
   ]
  },
  {
   "cell_type": "code",
   "execution_count": 194,
   "metadata": {},
   "outputs": [
    {
     "name": "stdout",
     "output_type": "stream",
     "text": [
      "accuracy_score: 0.5121951219512195\n",
      "recall_score: 0.5121951219512195\n",
      "precision_score: 0.4801829268292683\n",
      "f1_score: 0.49567269866247043\n",
      "Test Data Accuracy: 0.5122\n"
     ]
    },
    {
     "data": {
      "text/html": [
       "<div>\n",
       "<style scoped>\n",
       "    .dataframe tbody tr th:only-of-type {\n",
       "        vertical-align: middle;\n",
       "    }\n",
       "\n",
       "    .dataframe tbody tr th {\n",
       "        vertical-align: top;\n",
       "    }\n",
       "\n",
       "    .dataframe thead th {\n",
       "        text-align: right;\n",
       "    }\n",
       "</style>\n",
       "<table border=\"1\" class=\"dataframe\">\n",
       "  <thead>\n",
       "    <tr style=\"text-align: right;\">\n",
       "      <th></th>\n",
       "      <th>Predicted: No</th>\n",
       "      <th>Predicted: Yes</th>\n",
       "    </tr>\n",
       "  </thead>\n",
       "  <tbody>\n",
       "    <tr>\n",
       "      <td>Actual: No</td>\n",
       "      <td>0</td>\n",
       "      <td>11</td>\n",
       "    </tr>\n",
       "    <tr>\n",
       "      <td>Actual: Yes</td>\n",
       "      <td>9</td>\n",
       "      <td>21</td>\n",
       "    </tr>\n",
       "  </tbody>\n",
       "</table>\n",
       "</div>"
      ],
      "text/plain": [
       "             Predicted: No  Predicted: Yes\n",
       "Actual: No               0              11\n",
       "Actual: Yes              9              21"
      ]
     },
     "execution_count": 194,
     "metadata": {},
     "output_type": "execute_result"
    }
   ],
   "source": [
    "# Predicting the Test set results\n",
    "y_pred = gnb.predict(X_test)\n",
    "\n",
    "# Making the Confusion Matrix\n",
    "cm = confusion_matrix(y_test, y_pred)\n",
    "\n",
    "# Making the Confusion Matrix\n",
    "print('accuracy_score:',accuracy_score(y_test, y_pred))\n",
    "print('recall_score:',recall_score(y_test, y_pred, average=\"weighted\", pos_label=\"pos\")) # tp / (tp + fn)\n",
    "print('precision_score:',precision_score(y_test, y_pred, average=\"weighted\", pos_label=\"pos\")) # tp / (tp + fp)\n",
    "print('f1_score:',f1_score(y_test, y_pred, average=\"weighted\", pos_label=\"pos\"))\n",
    "\n",
    "df_cm = pd.DataFrame(cm, index = ('Actual: No','Actual: Yes'), columns = ('Predicted: No', 'Predicted: Yes'))\n",
    "print(\"Test Data Accuracy: %.4f\" %accuracy_score(y_test, y_pred))\n",
    "df_cm"
   ]
  },
  {
   "cell_type": "code",
   "execution_count": null,
   "metadata": {},
   "outputs": [],
   "source": []
  }
 ],
 "metadata": {
  "kernelspec": {
   "display_name": "Python 3",
   "language": "python",
   "name": "python3"
  },
  "language_info": {
   "codemirror_mode": {
    "name": "ipython",
    "version": 3
   },
   "file_extension": ".py",
   "mimetype": "text/x-python",
   "name": "python",
   "nbconvert_exporter": "python",
   "pygments_lexer": "ipython3",
   "version": "3.7.4"
  }
 },
 "nbformat": 4,
 "nbformat_minor": 2
}
