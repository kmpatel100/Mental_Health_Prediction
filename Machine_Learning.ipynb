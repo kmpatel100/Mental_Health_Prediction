{
 "cells": [
  {
   "cell_type": "code",
   "execution_count": 2,
   "metadata": {},
   "outputs": [],
   "source": [
    "#import packages\n",
    "import numpy as np #for array and matrices\n",
    "import pandas as pd #for data manipulation and analysis\n",
    "from sklearn.model_selection  import train_test_split #for split the data into training and test\n",
    "from sklearn.metrics import confusion_matrix, accuracy_score, f1_score, recall_score, precision_score #for confusion matrix\n",
    "import warnings\n",
    "warnings.filterwarnings(\"ignore\") #to ignore all the warnings"
   ]
  },
  {
   "cell_type": "code",
   "execution_count": 3,
   "metadata": {},
   "outputs": [],
   "source": [
    "#load the dataset\n",
    "#read_csv is from pandas and it is use for loading the data\n",
    "m_health = pd.read_csv('D:\\\\Semester 3\\\\healthcare Analytics\\\\project\\\\m_health.csv', index_col=0)"
   ]
  },
  {
   "cell_type": "code",
   "execution_count": 4,
   "metadata": {},
   "outputs": [
    {
     "data": {
      "text/html": [
       "<div>\n",
       "<style scoped>\n",
       "    .dataframe tbody tr th:only-of-type {\n",
       "        vertical-align: middle;\n",
       "    }\n",
       "\n",
       "    .dataframe tbody tr th {\n",
       "        vertical-align: top;\n",
       "    }\n",
       "\n",
       "    .dataframe thead th {\n",
       "        text-align: right;\n",
       "    }\n",
       "</style>\n",
       "<table border=\"1\" class=\"dataframe\">\n",
       "  <thead>\n",
       "    <tr style=\"text-align: right;\">\n",
       "      <th></th>\n",
       "      <th>Age</th>\n",
       "      <th>Gender</th>\n",
       "      <th>Country</th>\n",
       "      <th>self_employed</th>\n",
       "      <th>family_history</th>\n",
       "      <th>treatment</th>\n",
       "      <th>work_interfere</th>\n",
       "      <th>no_employees</th>\n",
       "      <th>remote_work</th>\n",
       "      <th>tech_company</th>\n",
       "      <th>...</th>\n",
       "      <th>anonymity</th>\n",
       "      <th>leave</th>\n",
       "      <th>mental_health_consequence</th>\n",
       "      <th>phys_health_consequence</th>\n",
       "      <th>coworkers</th>\n",
       "      <th>supervisor</th>\n",
       "      <th>mental_health_interview</th>\n",
       "      <th>phys_health_interview</th>\n",
       "      <th>mental_vs_physical</th>\n",
       "      <th>obs_consequence</th>\n",
       "    </tr>\n",
       "  </thead>\n",
       "  <tbody>\n",
       "    <tr>\n",
       "      <td>0</td>\n",
       "      <td>19</td>\n",
       "      <td>0</td>\n",
       "      <td>44</td>\n",
       "      <td>0</td>\n",
       "      <td>0</td>\n",
       "      <td>1</td>\n",
       "      <td>2</td>\n",
       "      <td>4</td>\n",
       "      <td>0</td>\n",
       "      <td>1</td>\n",
       "      <td>...</td>\n",
       "      <td>2</td>\n",
       "      <td>2</td>\n",
       "      <td>1</td>\n",
       "      <td>1</td>\n",
       "      <td>1</td>\n",
       "      <td>2</td>\n",
       "      <td>1</td>\n",
       "      <td>0</td>\n",
       "      <td>2</td>\n",
       "      <td>0</td>\n",
       "    </tr>\n",
       "    <tr>\n",
       "      <td>1</td>\n",
       "      <td>26</td>\n",
       "      <td>1</td>\n",
       "      <td>44</td>\n",
       "      <td>0</td>\n",
       "      <td>0</td>\n",
       "      <td>0</td>\n",
       "      <td>3</td>\n",
       "      <td>5</td>\n",
       "      <td>0</td>\n",
       "      <td>0</td>\n",
       "      <td>...</td>\n",
       "      <td>0</td>\n",
       "      <td>0</td>\n",
       "      <td>0</td>\n",
       "      <td>1</td>\n",
       "      <td>0</td>\n",
       "      <td>0</td>\n",
       "      <td>1</td>\n",
       "      <td>1</td>\n",
       "      <td>0</td>\n",
       "      <td>0</td>\n",
       "    </tr>\n",
       "    <tr>\n",
       "      <td>2</td>\n",
       "      <td>14</td>\n",
       "      <td>1</td>\n",
       "      <td>6</td>\n",
       "      <td>0</td>\n",
       "      <td>0</td>\n",
       "      <td>0</td>\n",
       "      <td>3</td>\n",
       "      <td>4</td>\n",
       "      <td>0</td>\n",
       "      <td>1</td>\n",
       "      <td>...</td>\n",
       "      <td>0</td>\n",
       "      <td>1</td>\n",
       "      <td>1</td>\n",
       "      <td>1</td>\n",
       "      <td>2</td>\n",
       "      <td>2</td>\n",
       "      <td>2</td>\n",
       "      <td>2</td>\n",
       "      <td>1</td>\n",
       "      <td>0</td>\n",
       "    </tr>\n",
       "    <tr>\n",
       "      <td>3</td>\n",
       "      <td>13</td>\n",
       "      <td>1</td>\n",
       "      <td>43</td>\n",
       "      <td>0</td>\n",
       "      <td>1</td>\n",
       "      <td>1</td>\n",
       "      <td>2</td>\n",
       "      <td>2</td>\n",
       "      <td>0</td>\n",
       "      <td>1</td>\n",
       "      <td>...</td>\n",
       "      <td>1</td>\n",
       "      <td>1</td>\n",
       "      <td>2</td>\n",
       "      <td>2</td>\n",
       "      <td>1</td>\n",
       "      <td>0</td>\n",
       "      <td>0</td>\n",
       "      <td>0</td>\n",
       "      <td>1</td>\n",
       "      <td>1</td>\n",
       "    </tr>\n",
       "    <tr>\n",
       "      <td>4</td>\n",
       "      <td>13</td>\n",
       "      <td>1</td>\n",
       "      <td>44</td>\n",
       "      <td>0</td>\n",
       "      <td>0</td>\n",
       "      <td>0</td>\n",
       "      <td>1</td>\n",
       "      <td>1</td>\n",
       "      <td>1</td>\n",
       "      <td>1</td>\n",
       "      <td>...</td>\n",
       "      <td>0</td>\n",
       "      <td>0</td>\n",
       "      <td>1</td>\n",
       "      <td>1</td>\n",
       "      <td>1</td>\n",
       "      <td>2</td>\n",
       "      <td>2</td>\n",
       "      <td>2</td>\n",
       "      <td>0</td>\n",
       "      <td>0</td>\n",
       "    </tr>\n",
       "  </tbody>\n",
       "</table>\n",
       "<p>5 rows × 24 columns</p>\n",
       "</div>"
      ],
      "text/plain": [
       "   Age  Gender  Country  self_employed  family_history  treatment  \\\n",
       "0   19       0       44              0               0          1   \n",
       "1   26       1       44              0               0          0   \n",
       "2   14       1        6              0               0          0   \n",
       "3   13       1       43              0               1          1   \n",
       "4   13       1       44              0               0          0   \n",
       "\n",
       "   work_interfere  no_employees  remote_work  tech_company  ...  anonymity  \\\n",
       "0               2             4            0             1  ...          2   \n",
       "1               3             5            0             0  ...          0   \n",
       "2               3             4            0             1  ...          0   \n",
       "3               2             2            0             1  ...          1   \n",
       "4               1             1            1             1  ...          0   \n",
       "\n",
       "   leave  mental_health_consequence  phys_health_consequence  coworkers  \\\n",
       "0      2                          1                        1          1   \n",
       "1      0                          0                        1          0   \n",
       "2      1                          1                        1          2   \n",
       "3      1                          2                        2          1   \n",
       "4      0                          1                        1          1   \n",
       "\n",
       "   supervisor  mental_health_interview  phys_health_interview  \\\n",
       "0           2                        1                      0   \n",
       "1           0                        1                      1   \n",
       "2           2                        2                      2   \n",
       "3           0                        0                      0   \n",
       "4           2                        2                      2   \n",
       "\n",
       "   mental_vs_physical  obs_consequence  \n",
       "0                   2                0  \n",
       "1                   0                0  \n",
       "2                   1                0  \n",
       "3                   1                1  \n",
       "4                   0                0  \n",
       "\n",
       "[5 rows x 24 columns]"
      ]
     },
     "execution_count": 4,
     "metadata": {},
     "output_type": "execute_result"
    }
   ],
   "source": [
    "m_health.head()"
   ]
  },
  {
   "cell_type": "markdown",
   "metadata": {},
   "source": [
    "# Machine Learning approches"
   ]
  },
  {
   "cell_type": "code",
   "execution_count": 5,
   "metadata": {},
   "outputs": [],
   "source": [
    "# drop country column because after encoding it has series of numbers which will affect the result\n",
    "m_health = m_health.drop('Country', axis =1)"
   ]
  },
  {
   "cell_type": "code",
   "execution_count": 6,
   "metadata": {},
   "outputs": [],
   "source": [
    "# select features and target\n",
    "X = m_health.drop('treatment', axis =1)\n",
    "y = m_health.treatment"
   ]
  },
  {
   "cell_type": "code",
   "execution_count": 7,
   "metadata": {},
   "outputs": [],
   "source": [
    "# Split the data with train_test_split which by default split 75% as training and 25% as test\n",
    "X_train, X_test, y_train, y_test = train_test_split(X, y, random_state = 14)"
   ]
  },
  {
   "cell_type": "markdown",
   "metadata": {},
   "source": [
    "## K-nearest Neighbors"
   ]
  },
  {
   "cell_type": "code",
   "execution_count": 8,
   "metadata": {},
   "outputs": [
    {
     "name": "stdout",
     "output_type": "stream",
     "text": [
      "training accuracy is  0.8560767590618337\n",
      "test accuracy is  0.7412140575079872\n"
     ]
    }
   ],
   "source": [
    "#KNeighborsClassifier from sklearn\n",
    "from sklearn.neighbors import KNeighborsClassifier\n",
    "knn = KNeighborsClassifier(n_neighbors=5)\n",
    "knn.fit(X_train, y_train)\n",
    "\n",
    "#print the accuracy score\n",
    "print('training accuracy is ',knn.score(X_train, y_train))\n",
    "print('test accuracy is ',knn.score(X_test, y_test))"
   ]
  },
  {
   "cell_type": "code",
   "execution_count": 9,
   "metadata": {},
   "outputs": [
    {
     "name": "stdout",
     "output_type": "stream",
     "text": [
      "accuracy_score: 0.7412140575079872\n",
      "recall_score: 0.7298850574712644\n",
      "precision_score: 0.7888198757763976\n",
      "f1_score: 0.7582089552238808\n",
      "Test Data Accuracy: 0.7412\n"
     ]
    },
    {
     "data": {
      "text/html": [
       "<div>\n",
       "<style scoped>\n",
       "    .dataframe tbody tr th:only-of-type {\n",
       "        vertical-align: middle;\n",
       "    }\n",
       "\n",
       "    .dataframe tbody tr th {\n",
       "        vertical-align: top;\n",
       "    }\n",
       "\n",
       "    .dataframe thead th {\n",
       "        text-align: right;\n",
       "    }\n",
       "</style>\n",
       "<table border=\"1\" class=\"dataframe\">\n",
       "  <thead>\n",
       "    <tr style=\"text-align: right;\">\n",
       "      <th></th>\n",
       "      <th>Predicted: No</th>\n",
       "      <th>Predicted: Yes</th>\n",
       "    </tr>\n",
       "  </thead>\n",
       "  <tbody>\n",
       "    <tr>\n",
       "      <td>Actual: No</td>\n",
       "      <td>105</td>\n",
       "      <td>34</td>\n",
       "    </tr>\n",
       "    <tr>\n",
       "      <td>Actual: Yes</td>\n",
       "      <td>47</td>\n",
       "      <td>127</td>\n",
       "    </tr>\n",
       "  </tbody>\n",
       "</table>\n",
       "</div>"
      ],
      "text/plain": [
       "             Predicted: No  Predicted: Yes\n",
       "Actual: No             105              34\n",
       "Actual: Yes             47             127"
      ]
     },
     "execution_count": 9,
     "metadata": {},
     "output_type": "execute_result"
    }
   ],
   "source": [
    "# Predicting the Test set results\n",
    "y_pred = knn.predict(X_test)\n",
    "\n",
    "# Making the Confusion Matrix\n",
    "cm = confusion_matrix(y_test, y_pred)\n",
    "\n",
    "# Making the Confusion Matrix\n",
    "print('accuracy_score:',accuracy_score(y_test, y_pred))\n",
    "print('recall_score:',recall_score(y_test, y_pred)) # tp / (tp + fn)\n",
    "print('precision_score:',precision_score(y_test, y_pred)) # tp / (tp + fp)\n",
    "print('f1_score:',f1_score(y_test, y_pred))\n",
    "\n",
    "df_cm = pd.DataFrame(cm, index = ('Actual: No','Actual: Yes'), columns = ('Predicted: No', 'Predicted: Yes'))\n",
    "print(\"Test Data Accuracy: %.4f\" %accuracy_score(y_test, y_pred))\n",
    "df_cm"
   ]
  },
  {
   "cell_type": "markdown",
   "metadata": {},
   "source": [
    "## Decision Tree Classifier"
   ]
  },
  {
   "cell_type": "code",
   "execution_count": 10,
   "metadata": {},
   "outputs": [
    {
     "name": "stdout",
     "output_type": "stream",
     "text": [
      "max_depth= 2\n",
      "0.8304904051172708\n",
      "0.8274760383386581 \n",
      "\n",
      "max_depth= 3\n",
      "0.8304904051172708\n",
      "0.8274760383386581 \n",
      "\n",
      "max_depth= 4\n",
      "0.8326226012793176\n",
      "0.8146964856230032 \n",
      "\n",
      "max_depth= 5\n",
      "0.8464818763326226\n",
      "0.7667731629392971 \n",
      "\n",
      "max_depth= 6\n",
      "0.8710021321961621\n",
      "0.7699680511182109 \n",
      "\n",
      "max_depth= 7\n",
      "0.8891257995735607\n",
      "0.7731629392971247 \n",
      "\n",
      "max_depth= 8\n",
      "0.9040511727078892\n",
      "0.7763578274760383 \n",
      "\n",
      "max_depth= 9\n",
      "0.9168443496801706\n",
      "0.7667731629392971 \n",
      "\n",
      "max_depth= 10\n",
      "0.9264392324093816\n",
      "0.7763578274760383 \n",
      "\n"
     ]
    }
   ],
   "source": [
    "# Find Best Max Depth\n",
    "\n",
    "# Loop through a few different max depths and check the performance\n",
    "# Try different max depths. We want to optimize our ML models to make the best predictions possible.\n",
    "# For regular decision trees, max_depth, which is a hyperparameter, limits the number of splits in a tree.\n",
    "# You can find the best value of max_depth based on the R-squared score of the model on the test set.\n",
    "\n",
    "from sklearn.tree import DecisionTreeClassifier \n",
    "for d in [2,3,4,5,6,7,8,9,10]:\n",
    "    # Create the tree and fit it\n",
    "    decision_tree = DecisionTreeClassifier(max_depth=d, min_samples_split=6)\n",
    "    decision_tree.fit(X_train, y_train)\n",
    "\n",
    "    # Print out the scores on train and test\n",
    "    print('max_depth=', str(d))\n",
    "    print(decision_tree.score(X_train, y_train))\n",
    "    print(decision_tree.score(X_test, y_test), '\\n')  # You want the test score to be positive\n",
    "    \n",
    "# R-square for train and test scores are below. \n",
    "# Always remember that best accuracy that doesn't mean our model is perfect always check for confusion matrix."
   ]
  },
  {
   "cell_type": "code",
   "execution_count": 11,
   "metadata": {},
   "outputs": [
    {
     "name": "stdout",
     "output_type": "stream",
     "text": [
      "training accuracy is  0.9168443496801706\n",
      "test accuracy is  0.7795527156549521\n"
     ]
    }
   ],
   "source": [
    "# DecisionTreeClassifier from sklearn.tree\n",
    "tree = DecisionTreeClassifier(random_state=0, max_depth = 9, min_samples_split = 6)\n",
    "tree.fit(X_train, y_train) \n",
    "\n",
    "#print the accuracy score\n",
    "print('training accuracy is ',tree.score(X_train, y_train))\n",
    "print('test accuracy is ',tree.score(X_test, y_test))"
   ]
  },
  {
   "cell_type": "code",
   "execution_count": 12,
   "metadata": {},
   "outputs": [
    {
     "name": "stdout",
     "output_type": "stream",
     "text": [
      "accuracy_score: 0.7795527156549521\n",
      "recall_score: 0.8103448275862069\n",
      "precision_score: 0.7966101694915254\n",
      "f1_score: 0.8034188034188032\n",
      "Test Data Accuracy: 0.7796\n"
     ]
    },
    {
     "data": {
      "text/html": [
       "<div>\n",
       "<style scoped>\n",
       "    .dataframe tbody tr th:only-of-type {\n",
       "        vertical-align: middle;\n",
       "    }\n",
       "\n",
       "    .dataframe tbody tr th {\n",
       "        vertical-align: top;\n",
       "    }\n",
       "\n",
       "    .dataframe thead th {\n",
       "        text-align: right;\n",
       "    }\n",
       "</style>\n",
       "<table border=\"1\" class=\"dataframe\">\n",
       "  <thead>\n",
       "    <tr style=\"text-align: right;\">\n",
       "      <th></th>\n",
       "      <th>Predicted: No</th>\n",
       "      <th>Predicted: Yes</th>\n",
       "    </tr>\n",
       "  </thead>\n",
       "  <tbody>\n",
       "    <tr>\n",
       "      <td>Actual: No</td>\n",
       "      <td>103</td>\n",
       "      <td>36</td>\n",
       "    </tr>\n",
       "    <tr>\n",
       "      <td>Actual: Yes</td>\n",
       "      <td>33</td>\n",
       "      <td>141</td>\n",
       "    </tr>\n",
       "  </tbody>\n",
       "</table>\n",
       "</div>"
      ],
      "text/plain": [
       "             Predicted: No  Predicted: Yes\n",
       "Actual: No             103              36\n",
       "Actual: Yes             33             141"
      ]
     },
     "execution_count": 12,
     "metadata": {},
     "output_type": "execute_result"
    }
   ],
   "source": [
    "# Predicting the Test set results\n",
    "y_pred = tree.predict(X_test)\n",
    "\n",
    "# Making the Confusion Matrix\n",
    "cm = confusion_matrix(y_test, y_pred)\n",
    "\n",
    "# Making the Confusion Matrix\n",
    "print('accuracy_score:',accuracy_score(y_test, y_pred))\n",
    "print('recall_score:',recall_score(y_test, y_pred)) # tp / (tp + fn)\n",
    "print('precision_score:',precision_score(y_test, y_pred)) # tp / (tp + fp)\n",
    "print('f1_score:',f1_score(y_test, y_pred))\n",
    "\n",
    "df_cm = pd.DataFrame(cm, index = ('Actual: No','Actual: Yes'), columns = ('Predicted: No', 'Predicted: Yes'))\n",
    "print(\"Test Data Accuracy: %.4f\" %accuracy_score(y_test, y_pred))\n",
    "df_cm"
   ]
  },
  {
   "cell_type": "markdown",
   "metadata": {},
   "source": [
    "## Random Forest Classifier"
   ]
  },
  {
   "cell_type": "code",
   "execution_count": 13,
   "metadata": {},
   "outputs": [
    {
     "name": "stdout",
     "output_type": "stream",
     "text": [
      "The best test score is: 0.8338658146964856 {'random_state': 0, 'n_estimators': 200, 'min_samples_split': 12, 'max_depth': 7}\n"
     ]
    }
   ],
   "source": [
    "# Random Forest Model\n",
    "from sklearn.ensemble import RandomForestClassifier\n",
    "\n",
    "# Create the random forest model and fit to the training data\n",
    "cfr = RandomForestClassifier()\n",
    "cfr.fit(X_train, y_train)\n",
    "\n",
    "# Use ParameterGrid Search\n",
    "from sklearn.model_selection import ParameterGrid\n",
    "\n",
    "# Create a dictionary of hyperparameters to search\n",
    "# n_estimators is the number of trees in the forest. The larger the better, but also takes longer it will take to compute. \n",
    "# Run grid search\n",
    "grid = {'n_estimators': [50, 100, 150, 200], 'max_depth': [2, 3, 4, 5, 6, 7, 8, 9, 10], 'min_samples_split': [2, 3, 4, 5, 6, 7, 8, 9, 10, 11, 12], 'random_state': [0]}\n",
    "test_scores = []\n",
    "\n",
    "# Loop through the parameter grid, set the hyperparameters, and save the scores\n",
    "for g in ParameterGrid(grid):\n",
    "    cfr.set_params(**g)  # ** is \"unpacking\" the dictionary\n",
    "    cfr.fit(X_train, y_train)\n",
    "    test_scores.append(cfr.score(X_test, y_test))\n",
    "\n",
    "# Find best hyperparameters from the test score and print\n",
    "best_idx = np.argmax(test_scores)\n",
    "print('The best test score is:',test_scores[best_idx], ParameterGrid(grid)[best_idx])  "
   ]
  },
  {
   "cell_type": "code",
   "execution_count": 14,
   "metadata": {},
   "outputs": [
    {
     "name": "stdout",
     "output_type": "stream",
     "text": [
      "training accuracy is  0.8848614072494669\n",
      "test accuracy is  0.8338658146964856\n"
     ]
    }
   ],
   "source": [
    "#RandomForestClassifier from sklearn.ensemble\n",
    "from sklearn.ensemble import RandomForestClassifier\n",
    "clf = RandomForestClassifier(n_estimators=200, max_depth=7, min_samples_split = 12, random_state=0)\n",
    "clf.fit(X_train, y_train)\n",
    "\n",
    "#print the accuracy score\n",
    "print('training accuracy is ',clf.score(X_train, y_train))\n",
    "print('test accuracy is ',clf.score(X_test, y_test))"
   ]
  },
  {
   "cell_type": "code",
   "execution_count": 15,
   "metadata": {},
   "outputs": [
    {
     "name": "stdout",
     "output_type": "stream",
     "text": [
      "accuracy_score: 0.8338658146964856\n",
      "recall_score: 0.8338658146964856\n",
      "precision_score: 0.8392470334684532\n",
      "f1_score: 0.8313761228161434\n",
      "Test Data Accuracy: 0.8339\n"
     ]
    },
    {
     "data": {
      "text/html": [
       "<div>\n",
       "<style scoped>\n",
       "    .dataframe tbody tr th:only-of-type {\n",
       "        vertical-align: middle;\n",
       "    }\n",
       "\n",
       "    .dataframe tbody tr th {\n",
       "        vertical-align: top;\n",
       "    }\n",
       "\n",
       "    .dataframe thead th {\n",
       "        text-align: right;\n",
       "    }\n",
       "</style>\n",
       "<table border=\"1\" class=\"dataframe\">\n",
       "  <thead>\n",
       "    <tr style=\"text-align: right;\">\n",
       "      <th></th>\n",
       "      <th>Predicted: No</th>\n",
       "      <th>Predicted: Yes</th>\n",
       "    </tr>\n",
       "  </thead>\n",
       "  <tbody>\n",
       "    <tr>\n",
       "      <td>Actual: No</td>\n",
       "      <td>101</td>\n",
       "      <td>38</td>\n",
       "    </tr>\n",
       "    <tr>\n",
       "      <td>Actual: Yes</td>\n",
       "      <td>14</td>\n",
       "      <td>160</td>\n",
       "    </tr>\n",
       "  </tbody>\n",
       "</table>\n",
       "</div>"
      ],
      "text/plain": [
       "             Predicted: No  Predicted: Yes\n",
       "Actual: No             101              38\n",
       "Actual: Yes             14             160"
      ]
     },
     "execution_count": 15,
     "metadata": {},
     "output_type": "execute_result"
    }
   ],
   "source": [
    "# Predicting the Test set results\n",
    "y_pred = clf.predict(X_test)\n",
    "\n",
    "# Making the Confusion Matrix\n",
    "cm = confusion_matrix(y_test, y_pred)\n",
    "\n",
    "# Making the Confusion Matrix\n",
    "print('accuracy_score:',accuracy_score(y_test, y_pred))\n",
    "print('recall_score:',recall_score(y_test, y_pred, average=\"weighted\", pos_label=\"pos\")) # tp / (tp + fn)\n",
    "print('precision_score:',precision_score(y_test, y_pred, average=\"weighted\", pos_label=\"pos\")) # tp / (tp + fp)\n",
    "print('f1_score:',f1_score(y_test, y_pred, average=\"weighted\", pos_label=\"pos\"))\n",
    "\n",
    "df_cm = pd.DataFrame(cm, index = ('Actual: No','Actual: Yes'), columns = ('Predicted: No', 'Predicted: Yes'))\n",
    "print(\"Test Data Accuracy: %.4f\" %accuracy_score(y_test, y_pred))\n",
    "df_cm"
   ]
  },
  {
   "cell_type": "markdown",
   "metadata": {},
   "source": [
    "## Support Vector Machine"
   ]
  },
  {
   "cell_type": "code",
   "execution_count": 17,
   "metadata": {},
   "outputs": [
    {
     "name": "stdout",
     "output_type": "stream",
     "text": [
      "training accuracy is  0.814498933901919\n",
      "test accuracy is  0.7955271565495208\n"
     ]
    }
   ],
   "source": [
    "# Support vector classification form sklearn.svm\n",
    "from sklearn.svm import SVC\n",
    "svm = SVC(kernel = 'linear', random_state = 0)\n",
    "svm.fit(X_train, y_train)\n",
    "\n",
    "#print the accuracy score\n",
    "print('training accuracy is ',svm.score(X_train, y_train))\n",
    "print('test accuracy is ',svm.score(X_test, y_test))"
   ]
  },
  {
   "cell_type": "code",
   "execution_count": 18,
   "metadata": {},
   "outputs": [
    {
     "name": "stdout",
     "output_type": "stream",
     "text": [
      "accuracy_score: 0.7955271565495208\n",
      "recall_score: 0.7955271565495208\n",
      "precision_score: 0.7975476610722678\n",
      "f1_score: 0.7931581798074884\n",
      "Test Data Accuracy: 0.7955\n"
     ]
    },
    {
     "data": {
      "text/html": [
       "<div>\n",
       "<style scoped>\n",
       "    .dataframe tbody tr th:only-of-type {\n",
       "        vertical-align: middle;\n",
       "    }\n",
       "\n",
       "    .dataframe tbody tr th {\n",
       "        vertical-align: top;\n",
       "    }\n",
       "\n",
       "    .dataframe thead th {\n",
       "        text-align: right;\n",
       "    }\n",
       "</style>\n",
       "<table border=\"1\" class=\"dataframe\">\n",
       "  <thead>\n",
       "    <tr style=\"text-align: right;\">\n",
       "      <th></th>\n",
       "      <th>Predicted: No</th>\n",
       "      <th>Predicted: Yes</th>\n",
       "    </tr>\n",
       "  </thead>\n",
       "  <tbody>\n",
       "    <tr>\n",
       "      <td>Actual: No</td>\n",
       "      <td>97</td>\n",
       "      <td>42</td>\n",
       "    </tr>\n",
       "    <tr>\n",
       "      <td>Actual: Yes</td>\n",
       "      <td>22</td>\n",
       "      <td>152</td>\n",
       "    </tr>\n",
       "  </tbody>\n",
       "</table>\n",
       "</div>"
      ],
      "text/plain": [
       "             Predicted: No  Predicted: Yes\n",
       "Actual: No              97              42\n",
       "Actual: Yes             22             152"
      ]
     },
     "execution_count": 18,
     "metadata": {},
     "output_type": "execute_result"
    }
   ],
   "source": [
    "# Predicting the Test set results\n",
    "y_pred = svm.predict(X_test)\n",
    "\n",
    "# Making the Confusion Matrix\n",
    "cm = confusion_matrix(y_test, y_pred)\n",
    "\n",
    "# Making the Confusion Matrix\n",
    "print('accuracy_score:',accuracy_score(y_test, y_pred))\n",
    "print('recall_score:',recall_score(y_test, y_pred, average=\"weighted\", pos_label=\"pos\")) # tp / (tp + fn)\n",
    "print('precision_score:',precision_score(y_test, y_pred, average=\"weighted\", pos_label=\"pos\")) # tp / (tp + fp)\n",
    "print('f1_score:',f1_score(y_test, y_pred, average=\"weighted\", pos_label=\"pos\"))\n",
    "\n",
    "df_cm = pd.DataFrame(cm, index = ('Actual: No','Actual: Yes'), columns = ('Predicted: No', 'Predicted: Yes'))\n",
    "print(\"Test Data Accuracy: %.4f\" %accuracy_score(y_test, y_pred))\n",
    "df_cm"
   ]
  },
  {
   "cell_type": "markdown",
   "metadata": {},
   "source": [
    "## Naive Bayes Algorithm"
   ]
  },
  {
   "cell_type": "code",
   "execution_count": 20,
   "metadata": {},
   "outputs": [
    {
     "name": "stdout",
     "output_type": "stream",
     "text": [
      "training accuracy is  0.7921108742004265\n",
      "test accuracy is  0.7763578274760383\n"
     ]
    }
   ],
   "source": [
    "# Fitting classifier to the Training set\n",
    "from sklearn.naive_bayes import GaussianNB\n",
    "gnb = GaussianNB()\n",
    "gnb.fit(X_train, y_train)\n",
    "\n",
    "#print the accuracy score\n",
    "print('training accuracy is ',gnb.score(X_train, y_train))\n",
    "print('test accuracy is ',gnb.score(X_test, y_test))"
   ]
  },
  {
   "cell_type": "code",
   "execution_count": 21,
   "metadata": {},
   "outputs": [
    {
     "name": "stdout",
     "output_type": "stream",
     "text": [
      "accuracy_score: 0.7763578274760383\n",
      "recall_score: 0.7873563218390804\n",
      "precision_score: 0.8058823529411765\n",
      "f1_score: 0.7965116279069767\n",
      "Test Data Accuracy: 0.7764\n"
     ]
    },
    {
     "data": {
      "text/html": [
       "<div>\n",
       "<style scoped>\n",
       "    .dataframe tbody tr th:only-of-type {\n",
       "        vertical-align: middle;\n",
       "    }\n",
       "\n",
       "    .dataframe tbody tr th {\n",
       "        vertical-align: top;\n",
       "    }\n",
       "\n",
       "    .dataframe thead th {\n",
       "        text-align: right;\n",
       "    }\n",
       "</style>\n",
       "<table border=\"1\" class=\"dataframe\">\n",
       "  <thead>\n",
       "    <tr style=\"text-align: right;\">\n",
       "      <th></th>\n",
       "      <th>Predicted: No</th>\n",
       "      <th>Predicted: Yes</th>\n",
       "    </tr>\n",
       "  </thead>\n",
       "  <tbody>\n",
       "    <tr>\n",
       "      <td>Actual: No</td>\n",
       "      <td>106</td>\n",
       "      <td>33</td>\n",
       "    </tr>\n",
       "    <tr>\n",
       "      <td>Actual: Yes</td>\n",
       "      <td>37</td>\n",
       "      <td>137</td>\n",
       "    </tr>\n",
       "  </tbody>\n",
       "</table>\n",
       "</div>"
      ],
      "text/plain": [
       "             Predicted: No  Predicted: Yes\n",
       "Actual: No             106              33\n",
       "Actual: Yes             37             137"
      ]
     },
     "execution_count": 21,
     "metadata": {},
     "output_type": "execute_result"
    }
   ],
   "source": [
    "# Predicting the Test set results\n",
    "y_pred = gnb.predict(X_test)\n",
    "\n",
    "# Making the Confusion Matrix\n",
    "cm = confusion_matrix(y_test, y_pred)\n",
    "\n",
    "# Making the Confusion Matrix\n",
    "print('accuracy_score:',accuracy_score(y_test, y_pred))\n",
    "print('recall_score:',recall_score(y_test, y_pred)) # tp / (tp + fn)\n",
    "print('precision_score:',precision_score(y_test, y_pred)) # tp / (tp + fp)\n",
    "print('f1_score:',f1_score(y_test, y_pred))\n",
    "\n",
    "df_cm = pd.DataFrame(cm, index = ('Actual: No','Actual: Yes'), columns = ('Predicted: No', 'Predicted: Yes'))\n",
    "print(\"Test Data Accuracy: %.4f\" %accuracy_score(y_test, y_pred))\n",
    "df_cm"
   ]
  },
  {
   "cell_type": "code",
   "execution_count": null,
   "metadata": {},
   "outputs": [],
   "source": []
  }
 ],
 "metadata": {
  "kernelspec": {
   "display_name": "Python 3",
   "language": "python",
   "name": "python3"
  },
  "language_info": {
   "codemirror_mode": {
    "name": "ipython",
    "version": 3
   },
   "file_extension": ".py",
   "mimetype": "text/x-python",
   "name": "python",
   "nbconvert_exporter": "python",
   "pygments_lexer": "ipython3",
   "version": "3.7.4"
  }
 },
 "nbformat": 4,
 "nbformat_minor": 2
}
